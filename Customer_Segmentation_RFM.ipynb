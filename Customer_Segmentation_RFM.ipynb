{
 "cells": [
  {
   "cell_type": "markdown",
   "id": "5d79a1ec",
   "metadata": {},
   "source": [
    "# 👥 Customer Segmentation with RFM Analysis\n",
    "\n",
    "This notebook performs **RFM (Recency, Frequency, Monetary)** analysis on transaction data to segment customers.\n",
    "\n",
    "### What you'll do\n",
    "- Load and clean the Online Retail dataset\n",
    "- Engineer RFM features per customer\n",
    "- Score R, F, M using quantiles\n",
    "- Create segments (e.g., *Champions, Loyal, At Risk*)\n",
    "- Visualize segment distribution and value\n",
    "\n",
    "### Dataset\n",
    "- Use the **UCI Online Retail** dataset (Excel): place the file at `data/Online Retail.xlsx`\n",
    "- Columns used: `InvoiceNo, StockCode, Description, Quantity, InvoiceDate, UnitPrice, CustomerID, Country`\n",
    "\n",
    "> Tip: If your file name differs, just update the path in the load cell below."
   ]
  },
  {
   "cell_type": "markdown",
   "id": "5f43a50c",
   "metadata": {},
   "source": [
    "## 1) Setup & Load Data"
   ]
  },
  {
   "cell_type": "code",
   "execution_count": null,
   "id": "9941b8a1",
   "metadata": {},
   "outputs": [],
   "source": [
    "import pandas as pd\n",
    "import numpy as np\n",
    "import matplotlib.pyplot as plt\n",
    "from pathlib import Path\n",
    "\n",
    "%matplotlib inline\n",
    "\n",
    "DATA_PATH = Path('data/Online Retail.xlsx')  # change if your filename is different\n",
    "assert DATA_PATH.exists(), f\"File not found: {DATA_PATH}. Place 'Online Retail.xlsx' under a 'data/' folder.\"\n",
    "\n",
    "df = pd.read_excel(DATA_PATH)\n",
    "print(df.shape)\n",
    "df.head()"
   ]
  },
  {
   "cell_type": "markdown",
   "id": "a71437d4",
   "metadata": {},
   "source": [
    "## 2) Quick Data Check"
   ]
  },
  {
   "cell_type": "code",
   "execution_count": null,
   "id": "1e9db61b",
   "metadata": {},
   "outputs": [],
   "source": [
    "df.info()"
   ]
  },
  {
   "cell_type": "code",
   "execution_count": null,
   "id": "f222e07f",
   "metadata": {},
   "outputs": [],
   "source": [
    "df.describe(include='all').T.head(20)"
   ]
  },
  {
   "cell_type": "markdown",
   "id": "e774a798",
   "metadata": {},
   "source": [
    "## 3) Basic Cleaning\n",
    "- Drop rows with missing `CustomerID`\n",
    "- Remove cancellations/returns (negative quantities)\n",
    "- Remove zero/negative prices\n",
    "- Create `TotalPrice = Quantity * UnitPrice`\n",
    "- Convert `InvoiceDate` to datetime"
   ]
  },
  {
   "cell_type": "code",
   "execution_count": null,
   "id": "5c9f04ce",
   "metadata": {},
   "outputs": [],
   "source": [
    "raw = df.copy()\n",
    "df = df.dropna(subset=['CustomerID']).copy()\n",
    "df = df[(df['Quantity'] > 0) & (df['UnitPrice'] > 0)].copy()\n",
    "df['InvoiceDate'] = pd.to_datetime(df['InvoiceDate'])\n",
    "df['TotalPrice'] = df['Quantity'] * df['UnitPrice']\n",
    "df.head()"
   ]
  },
  {
   "cell_type": "markdown",
   "id": "1c9397eb",
   "metadata": {},
   "source": [
    "## 4) Compute RFM Features per Customer\n",
    "- **Recency**: days since last purchase\n",
    "- **Frequency**: number of invoices\n",
    "- **Monetary**: total spend"
   ]
  },
  {
   "cell_type": "code",
   "execution_count": null,
   "id": "fd32c4e0",
   "metadata": {},
   "outputs": [],
   "source": [
    "snapshot_date = df['InvoiceDate'].max() + pd.Timedelta(days=1)\n",
    "rfm = df.groupby('CustomerID').agg({\n",
    "    'InvoiceDate': lambda x: (snapshot_date - x.max()).days,\n",
    "    'InvoiceNo': 'nunique',\n",
    "    'TotalPrice': 'sum'\n",
    "}).rename(columns={'InvoiceDate': 'Recency', 'InvoiceNo': 'Frequency', 'TotalPrice': 'Monetary'})\n",
    "rfm = rfm.astype({'Recency':'int', 'Frequency':'int'})\n",
    "rfm.head()"
   ]
  },
  {
   "cell_type": "markdown",
   "id": "51029ec6",
   "metadata": {},
   "source": [
    "## 5) RFM Scoring with Quantiles\n",
    "- Lower **Recency** is better ⇒ invert when scoring\n",
    "- Higher **Frequency**/**Monetary** is better"
   ]
  },
  {
   "cell_type": "code",
   "execution_count": null,
   "id": "8951f298",
   "metadata": {},
   "outputs": [],
   "source": [
    "def qcut_scores(series, q=5, ascending=True):\n",
    "    quantiles = pd.qcut(series.rank(method='first'), q, labels=False) + 1\n",
    "    if not ascending:\n",
    "        quantiles = q + 1 - quantiles\n",
    "    return quantiles\n",
    "\n",
    "rfm['R_Score'] = qcut_scores(rfm['Recency'], q=5, ascending=False)\n",
    "rfm['F_Score'] = qcut_scores(rfm['Frequency'], q=5, ascending=True)\n",
    "rfm['M_Score'] = qcut_scores(rfm['Monetary'], q=5, ascending=True)\n",
    "rfm['RFM_Score'] = rfm['R_Score'].astype(str) + rfm['F_Score'].astype(str) + rfm['M_Score'].astype(str)\n",
    "rfm.head()"
   ]
  },
  {
   "cell_type": "markdown",
   "id": "4277f836",
   "metadata": {},
   "source": [
    "## 6) Map RFM Scores to Segments"
   ]
  },
  {
   "cell_type": "code",
   "execution_count": null,
   "id": "adbf25fd",
   "metadata": {},
   "outputs": [],
   "source": [
    "def segment_map(row):\n",
    "    r, f, m = row['R_Score'], row['F_Score'], row['M_Score']\n",
    "    if r >= 4 and f >= 4 and m >= 4:\n",
    "        return 'Champions'\n",
    "    if r >= 3 and f >= 4:\n",
    "        return 'Loyal'\n",
    "    if r >= 4 and f <= 2:\n",
    "        return 'Potential Loyalist'\n",
    "    if r <= 2 and f >= 4:\n",
    "        return 'At Risk'\n",
    "    if r <= 2 and f <= 2:\n",
    "        return 'Hibernating'\n",
    "    return 'Others'\n",
    "\n",
    "rfm['Segment'] = rfm.apply(segment_map, axis=1)\n",
    "rfm['Segment'].value_counts().head()"
   ]
  },
  {
   "cell_type": "markdown",
   "id": "fb725588",
   "metadata": {},
   "source": [
    "## 7) Visualize Segments"
   ]
  },
  {
   "cell_type": "code",
   "execution_count": null,
   "id": "8c0bf213",
   "metadata": {},
   "outputs": [],
   "source": [
    "seg_counts = rfm['Segment'].value_counts().sort_values(ascending=False)\n",
    "plt.figure(figsize=(8,5))\n",
    "seg_counts.plot(kind='bar')\n",
    "plt.title('Customer Count by Segment')\n",
    "plt.xlabel('Segment')\n",
    "plt.ylabel('Customers')\n",
    "plt.xticks(rotation=45)\n",
    "plt.tight_layout()\n",
    "plt.show()"
   ]
  },
  {
   "cell_type": "code",
   "execution_count": null,
   "id": "cdba8d24",
   "metadata": {},
   "outputs": [],
   "source": [
    "rev_by_seg = rfm.groupby('Segment')['Monetary'].sum().sort_values(ascending=False)\n",
    "plt.figure(figsize=(8,5))\n",
    "rev_by_seg.plot(kind='bar')\n",
    "plt.title('Total Revenue by Segment')\n",
    "plt.xlabel('Segment')\n",
    "plt.ylabel('Revenue')\n",
    "plt.xticks(rotation=45)\n",
    "plt.tight_layout()\n",
    "plt.show()"
   ]
  },
  {
   "cell_type": "markdown",
   "id": "b9fb7f90",
   "metadata": {},
   "source": [
    "## 8) Export Results"
   ]
  },
  {
   "cell_type": "code",
   "execution_count": null,
   "id": "a92aa802",
   "metadata": {},
   "outputs": [],
   "source": [
    "Path('outputs').mkdir(exist_ok=True)\n",
    "rfm.reset_index().to_csv('outputs/rfm_customers.csv', index=False)\n",
    "print('Saved: outputs/rfm_customers.csv')"
   ]
  },
  {
   "cell_type": "markdown",
   "id": "bc807ce8",
   "metadata": {},
   "source": [
    "## 9) Notes for your README.md\n",
    "- Explain what RFM is and why businesses use it\n",
    "- Summarize key insights (e.g., *Champions are 12% of customers but 38% of revenue*)\n",
    "- Mention tools used: **Python, pandas, matplotlib**\n",
    "- Outline steps to reproduce: where to place the dataset and how to run the notebook"
   ]
  }
 ],
 "metadata": {},
 "nbformat": 4,
 "nbformat_minor": 5
}
